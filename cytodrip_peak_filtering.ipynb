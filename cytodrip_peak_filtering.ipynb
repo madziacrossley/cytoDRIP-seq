{
 "cells": [
  {
   "cell_type": "markdown",
   "id": "3b7281d7",
   "metadata": {},
   "source": [
    "# Notebook to produce filtered cytoDRIP peak set"
   ]
  },
  {
   "cell_type": "code",
   "execution_count": null,
   "id": "41b0fc4f",
   "metadata": {},
   "outputs": [],
   "source": [
    "# Peak calling commands\n",
    "\n",
    "#merge all IgG files and use this as the 'background' file against which to call peaks\n",
    "!samtools merge ../../../aligned_renamed/*IGG.bam\n",
    "\n",
    "# Call peaks for each condition seperately with MACS2\n",
    "#The -m and -q values were iteratively tested, and the resulting peak files viewed in IGV to evaluate the settings that are stringent enough to not pick up background signal, but also that combine peaks that are very close\n",
    "#-q flag is permissive but there is further filtering afterwards (see below)\n",
    "!macs2 callpeak -m 3 20 -q 0.2 -f BAMPE -t ../../../aligned_renamed/CON_1_S9p6.bam -c ../../peak_calling/merged_igg.bam -g hs --outdir ../../peak_calling/s96_vs_igg -n CON_1\n",
    "!macs2 callpeak -m 3 20 -q 0.2 -f BAMPE -t ../../../aligned_renamed/CON_2_S9p6.bam -c ../../peak_calling/merged_igg.bam -g hs --outdir ../../peak_calling/s96_vs_igg -n CON_2\n",
    "!macs2 callpeak -m 3 20 -q 0.2 -f BAMPE -t ../../../aligned_renamed/SETX_1_S9p6.bam -c ../../peak_calling/merged_igg.bam -g hs --outdir ../../peak_calling/s96_vs_igg -n SETX_1\n",
    "!macs2 callpeak -m 3 20 -q 0.2 -f BAMPE -t ../../../aligned_renamed/SETX_2_S9p6.bam -c ../../peak_calling/merged_igg.bam -g hs --outdir ../../peak_calling/s96_vs_igg -n SETX_2\n",
    "\n",
    "\n",
    "# Convert the narrowPeak files to bed files\n",
    "!awk 'BEGIN{OFS=\"\\t\"}{print($1,$2,$3,$4,$5,$6)}' ../../peak_calling/s96_vs_igg/CON_1_peaks.narrowPeak > ../../peak_calling/s96_vs_igg/peak_coverage/CON_1_peaks.bed\n",
    "!awk 'BEGIN{OFS=\"\\t\"}{print($1,$2,$3,$4,$5,$6)}' ../../peak_calling/s96_vs_igg/CON_2_peaks.narrowPeak > ../../peak_calling/s96_vs_igg/peak_coverage/CON_2_peaks.bed\n",
    "!awk 'BEGIN{OFS=\"\\t\"}{print($1,$2,$3,$4,$5,$6)}' ../../peak_calling/s96_vs_igg/SETX_1_peaks.narrowPeak > ../../peak_calling/s96_vs_igg/peak_coverage/SETX_1_peaks.bed\n",
    "!awk 'BEGIN{OFS=\"\\t\"}{print($1,$2,$3,$4,$5,$6)}' ../../peak_calling/s96_vs_igg/SETX_2_peaks.narrowPeak > ../../peak_calling/s96_vs_igg/peak_coverage/SETX_2_peaks.bed\n"
   ]
  },
  {
   "cell_type": "code",
   "execution_count": null,
   "id": "a6376274",
   "metadata": {},
   "outputs": [],
   "source": [
    "# Use bedtools coverage to get total read counts over each peak\n",
    "#these are bed files of deduplicated reads for each IgG sample\n",
    "find ../../../aligned_split_reads/rmdup/*.bed | sed -e 's/.bam.bed//' -e 's:.*rmdup/::' | xargs -I % -P10 sh -c 'bedtools coverage -sorted -counts -a ../../peak_calling/s96_vs_igg/peak_coverage/CON_1_peaks.bed -b ../../../aligned_split_reads/rmdup/%.bam.bed > ../../peak_calling/s96_vs_igg/peak_coverage/read_coverage/CON_1_peaks/%.cov'\n",
    "find ../../../aligned_split_reads/rmdup/*.bed | sed -e 's/.bam.bed//' -e 's:.*rmdup/::' | xargs -I % -P10 sh -c 'bedtools coverage -sorted -counts -a ../../peak_calling/s96_vs_igg/peak_coverage/CON_2_peaks.bed -b ../../../aligned_split_reads/rmdup/%.bam.bed > ../../peak_calling/s96_vs_igg/peak_coverage/read_coverage/CON_2_peaks/%.cov'\n",
    "find ../../../aligned_split_reads/rmdup/*.bed | sed -e 's/.bam.bed//' -e 's:.*rmdup/::' | xargs -I % -P10 sh -c 'bedtools coverage -sorted -counts -a ../../peak_calling/s96_vs_igg/peak_coverage/SETX_1_peaks.bed -b ../../../aligned_split_reads/rmdup/%.bam.bed > ../../peak_calling/s96_vs_igg/peak_coverage/read_coverage/SETX_1_peaks/%.cov'\n",
    "find ../../../aligned_split_reads/rmdup/*.bed | sed -e 's/.bam.bed//' -e 's:.*rmdup/::' | xargs -I % -P10 sh -c 'bedtools coverage -sorted -counts -a ../../peak_calling/s96_vs_igg/peak_coverage/SETX_2_peaks.bed -b ../../../aligned_split_reads/rmdup/%.bam.bed > ../../peak_calling/s96_vs_igg/peak_coverage/read_coverage/SETX_2_peaks/%.cov'"
   ]
  },
  {
   "cell_type": "markdown",
   "id": "9bde61f1",
   "metadata": {},
   "source": [
    "# Filter peaks to exclude regions with high IgG background\n"
   ]
  },
  {
   "cell_type": "code",
   "execution_count": null,
   "id": "ca6e825c",
   "metadata": {},
   "outputs": [],
   "source": [
    "#calculated by wc -l from deduplicated bed files\n",
    "# Load read counts for each sample (to normalize)\n",
    "read_counts = ((pd.read_csv('./combined_rcs.csv', \n",
    "                            names = ('sample_name', 'read_count'))\n",
    "               .set_index('sample_name') / 1e6)\n",
    "               .to_dict()['read_count'])"
   ]
  },
  {
   "cell_type": "code",
   "execution_count": null,
   "id": "b6a9f860",
   "metadata": {},
   "outputs": [],
   "source": [
    "# Helper function to create a string like chr1:1000-1010 \n",
    "# From a dataframe containing bed data, with columns \"chr\" \"start\" and \"end\"\n",
    "def ucsc_index(df):\n",
    "    return df.chr.str.cat(\n",
    "        df.start.astype(str).str.cat(\n",
    "            df.end.astype(str),\n",
    "            sep='-'), \n",
    "        sep=':')\n",
    "\n",
    "# Function to automatically combine all coverage files into a single dataframe\n",
    "def read_data(ref_folder):\n",
    "    files = glob.glob(ref_folder + '*.cov')\n",
    "    sample_name = re.compile('/([pm])_(.+).cov$')\n",
    "    sample_to_file = {sample_name.search(f).groups(1): f for f in files}\n",
    "    dfs = []\n",
    "    for sample_name, file_path in sample_to_file.items():\n",
    "        df = pd.read_csv(file_path, sep='\\t', \n",
    "                         names = ('chr', 'start', 'end', \n",
    "                                  'name', 'score', 'strand', \n",
    "                                  'count')\n",
    "                        )\n",
    "        df['sample_name'] = sample_name[1]\n",
    "        df['read_strand'] = sample_name[0]\n",
    "        df['count'] /= read_counts[sample_name[1]] # Normalize to reads/million\n",
    "        dfs.append(df)\n",
    "    return pd.concat(dfs, axis = 0)\n",
    "\n",
    "# Extract the rows that have low IGGs\n",
    "def high_background_peaks(read_data):\n",
    "    peak_reads = read_data.groupby(['name', 'sample_name'])['count'].sum().unstack().fillna(0)\n",
    "    IGG_means = peak_reads[[i for i in peak_reads.columns if 'IGG' in i]].mean(axis=1)\n",
    "    return IGG_means[IGG_means >= IGG_means.quantile(0.95)].index\n",
    "\n",
    "# Use the high_background_peaks function along with a q-score cutoff to filter \n",
    "# only high-confidence and low-background peaks out of the set\n",
    "def good_peaks(ref_folder, score_cutoff=30):\n",
    "    peak_set = read_data(ref_folder)\n",
    "    high_bg = high_background_peaks(peak_set)\n",
    "    return peak_set.loc[(peak_set.score > score_cutoff) & (~peak_set.name.isin(high_bg)),\n",
    "                       ['chr', 'start', 'end', 'name', 'score', 'strand']\n",
    "                       ].drop_duplicates()"
   ]
  },
  {
   "cell_type": "code",
   "execution_count": null,
   "id": "06d9e169",
   "metadata": {},
   "outputs": [],
   "source": [
    "CON_peaks_1 = good_peaks('./CON_1_peaks/')\n",
    "CON_peaks_2 = good_peaks('./CON_2_peaks/')\n",
    "SETX_peaks_1 = good_peaks('./SETX_1_peaks/')\n",
    "SETX_peaks_2 = good_peaks('./SETX_2_peaks/')"
   ]
  },
  {
   "cell_type": "code",
   "execution_count": null,
   "id": "4f04ab6c",
   "metadata": {},
   "outputs": [],
   "source": [
    "#Function to readout peak file as bed file\n",
    "def write_bed(df, filename):\n",
    "    (df[['chr', 'start', 'end', 'name', 'score', 'strand']]\n",
    "     .sort_values(['chr', 'start', 'end'])\n",
    "     .to_csv(filename, sep='\\t', index=False, header=False)\n",
    "    )"
   ]
  },
  {
   "cell_type": "code",
   "execution_count": null,
   "id": "6a3e87bd",
   "metadata": {},
   "outputs": [],
   "source": [
    "write_bed(CON_peaks_1, 'filtered_con_1.bed')\n",
    "write_bed(CON_peaks_2, 'filtered_con_2.bed')\n",
    "write_bed(SETX_peaks_1, 'filtered_setx_1.bed')\n",
    "write_bed(SETX_peaks_2, 'filtered_setx_2.bed')"
   ]
  },
  {
   "cell_type": "code",
   "execution_count": null,
   "id": "aab7b566",
   "metadata": {},
   "outputs": [],
   "source": [
    "# Merge all 4 peak sets into a consensus peak set\n",
    "!cat ../../peak_calling/s96_vs_igg/filtered*.bed | sort -k1,1 -k2,2n -k3,3n | bedtools merge -i stdin -c 5 -o mean -d 1000 | awk 'BEGIN{OFS=\"\\t\"}{print($1,$2,$3,\"peak_\"NR,$4,\".\")}' > ../../peak_calling/s96_vs_igg/merged_peaks.bed\n",
    "\n",
    "# Calculate overlap with genes\n",
    "\n",
    "#This uses Laitem et al., 2015 HeLa GRO-seq data PMID: 25849141 and uses only those hg38 genes that have at least 1 GRO-seq read (HeLa_expressed_full_genes.bed). Alternatively, gene files can be used without RNA-seq data.\n",
    "!bedtools intersect -wao -a merged_peaks.bed -b Hela_expressed_full_genes.bed > ../../peak_calling/s96_vs_igg/merged_peaks_with_genes.bed"
   ]
  },
  {
   "cell_type": "code",
   "execution_count": null,
   "id": "f967d092",
   "metadata": {},
   "outputs": [],
   "source": [
    "# Re-load the merged peak set, including gene overlaps\n",
    "bed_cols = ['chr', 'start', 'end', 'name', 'value', 'strand']\n",
    "peak_data = pd.read_csv('merged_peaks_with_genes.bed', \n",
    "                        names = ['peak_' +i for i in bed_cols ] + ['gene_' +i for i in bed_cols ] + ['overlap'],\n",
    "                        sep = '\\t'\n",
    "                       )\n",
    "\n",
    "# Assign each peak a strand based on the intersecting gene\n",
    "peak_data['peak_strand'] = peak_data['gene_strand']\n",
    "\n",
    "# This previous command doesn't necessarily assign a unique strand\n",
    "# As some peaks intersect multiple genes. Here, we put the peaks\n",
    "# and genes on a one-to-one correspondence, by keeping\n",
    "# the higher expressed gene where two genes intersect a peak\n",
    "peak_data = (peak_data\n",
    "             .sort_values('gene_value', ascending=False)\n",
    "             .drop_duplicates('peak_name')\n",
    "             .sort_values(['peak_chr', 'peak_start', 'peak_end'])\n",
    "            )\n",
    "#Filtering steps were done below, upon inspection of genome broswer tracks in IGV\n",
    "# Remove peaks from chr5p\n",
    "forbidden_peaks = set(peak_data.loc[(peak_data.peak_chr == 'chr5') & \n",
    "                                    (peak_data.peak_start < 50e6) & # The centromere is at coordinate ~50,000,000 \n",
    "                                    (peak_data.peak_value < 50), # Set the q-value threshold higher, as a \"soft mask\" of this region\n",
    "                                    'peak_name'\n",
    "                                   ]) \n",
    "\n",
    "# And from a region of 9q that also looks suspect\n",
    "forbidden_peaks = (forbidden_peaks | \n",
    "                   set(peak_data.loc[(peak_data.peak_chr == 'chr9') & \n",
    "                                    (peak_data.peak_start > 120e6) & \n",
    "                                    (peak_data.peak_value < 50),\n",
    "                                    'peak_name'\n",
    "                                   ])\n",
    "                  )"
   ]
  },
  {
   "cell_type": "code",
   "execution_count": null,
   "id": "5800f270",
   "metadata": {},
   "outputs": [],
   "source": [
    "#read out final peak file\n",
    "#This peak file is used for further analysis and aggregate plots\n",
    "peak_data.loc[~peak_data.peak_name.isin(forbidden_peaks), \n",
    "              ['peak_' +i for i in bed_cols ]\n",
    "             ].to_csv('final_annotated_peaks.bed', sep='\\t', header=False, index=False)"
   ]
  }
 ],
 "metadata": {
  "kernelspec": {
   "display_name": "Python 3 (ipykernel)",
   "language": "python",
   "name": "python3"
  },
  "language_info": {
   "codemirror_mode": {
    "name": "ipython",
    "version": 3
   },
   "file_extension": ".py",
   "mimetype": "text/x-python",
   "name": "python",
   "nbconvert_exporter": "python",
   "pygments_lexer": "ipython3",
   "version": "3.7.13"
  }
 },
 "nbformat": 4,
 "nbformat_minor": 5
}
